{
 "cells": [
  {
   "cell_type": "code",
   "execution_count": null,
   "metadata": {},
   "outputs": [],
   "source": [
    "import warnings\n",
    "warnings.filterwarnings('ignore')\n",
    "\n",
    "import pyart\n",
    "import numpy as np\n",
    "import matplotlib.pyplot as plt\n",
    "from netCDF4 import Dataset"
   ]
  },
  {
   "cell_type": "code",
   "execution_count": null,
   "metadata": {},
   "outputs": [],
   "source": [
    "filename = 'XSW170519052004.RAW54YX'\n",
    "radar = pyart.io.read(filename)"
   ]
  },
  {
   "cell_type": "code",
   "execution_count": null,
   "metadata": {},
   "outputs": [],
   "source": [
    "sounding = Dataset('spgsondewnpnC1.20170519.052800.cdf', 'r')\n",
    "pressure = sounding.variables['pres'][:]\n",
    "temperature = sounding.variables['tdry'][:]\n",
    "dewpoint = sounding.variables['dp'][:]\n",
    "u_wind = sounding.variables['u_wind'][:]\n",
    "v_wind = sounding.variables['v_wind'][:]\n",
    "speed = sounding.variables['wspd'][:]\n",
    "degree = sounding.variables['deg'][:]\n",
    "height = sounding.variables['alt'][:]"
   ]
  },
  {
   "cell_type": "code",
   "execution_count": null,
   "metadata": {},
   "outputs": [],
   "source": [
    "hprofile = pyart.core.HorizontalWindProfile.from_u_and_v(height, u_wind,\n",
    "                                                        v_wind)\n",
    "sim_vel = pyart.util.simulated_vel_from_profile(radar,hprofile)\n",
    "radar.add_field('sim_velocity', sim_vel, replace_existing=True)"
   ]
  },
  {
   "cell_type": "code",
   "execution_count": null,
   "metadata": {},
   "outputs": [],
   "source": [
    "z_want = height\n",
    "vad = pyart.retrieve.velocity_azimuth_display(radar, 'sim_velocity', z_want=z_want)"
   ]
  },
  {
   "cell_type": "code",
   "execution_count": null,
   "metadata": {},
   "outputs": [],
   "source": [
    "fig = plt.figure(figsize=(9,9))\n",
    "plt.plot(vad.u_wind, vad.height/1000, 'b-', label='U WIND')\n",
    "plt.plot(vad.v_wind, vad.height/1000, 'r-', label='V WIND')\n",
    "plt.xlim(-5,30)\n",
    "plt.ylim(0,10)\n",
    "plt.xlabel('m/s')\n",
    "plt.ylabel('Km')\n",
    "plt.legend(loc=0)\n",
    "plt.show()"
   ]
  }
 ],
 "metadata": {
  "kernelspec": {
   "display_name": "Python 3",
   "language": "python",
   "name": "python3"
  },
  "language_info": {
   "codemirror_mode": {
    "name": "ipython",
    "version": 3
   },
   "file_extension": ".py",
   "mimetype": "text/x-python",
   "name": "python",
   "nbconvert_exporter": "python",
   "pygments_lexer": "ipython3",
   "version": "3.6.5"
  }
 },
 "nbformat": 4,
 "nbformat_minor": 2
}
