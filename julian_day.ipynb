{
 "cells": [
  {
   "cell_type": "code",
   "execution_count": 1,
   "metadata": {},
   "outputs": [],
   "source": [
    "# julian_day.py\n",
    "# Jason Hemedinger\n",
    "# This is a program that will determine the Julian day of the year (leap or non leap year)\n",
    "# perentage of days that have occured and that have not occured for the given date(\n",
    "# and determines the season the date is in ( winter, spring, summer, or fall)"
   ]
  },
  {
   "cell_type": "code",
   "execution_count": 31,
   "metadata": {},
   "outputs": [],
   "source": [
    "# Set the year, month and day in numeric form\n",
    "year = 2018\n",
    "month = 9\n",
    "day = 18"
   ]
  },
  {
   "cell_type": "code",
   "execution_count": 32,
   "metadata": {},
   "outputs": [
    {
     "name": "stdout",
     "output_type": "stream",
     "text": [
      "2018 is not a leap year\n"
     ]
    }
   ],
   "source": [
    "# This section of code will determine if a year is a leap year or not\n",
    "if ((year % 100) != 0 and (year % 4) == 0 or (year % 400) ==0):\n",
    "    print(year, 'is a leap year')\n",
    "    leap = True\n",
    "    FEB = 29\n",
    "else:\n",
    "    print(year, 'is not a leap year')\n",
    "    leap = False\n",
    "    FEB = 28"
   ]
  },
  {
   "cell_type": "code",
   "execution_count": 17,
   "metadata": {},
   "outputs": [],
   "source": [
    "# Setting the months to be used for the julian day calculation\n",
    "JAN = 31\n",
    "MAR = 31\n",
    "APR = 30 \n",
    "MAY = 31\n",
    "JUN = 30\n",
    "JLY = 31\n",
    "AUG = 31\n",
    "SEP = 30\n",
    "OCT = 31\n",
    "NOV = 30\n",
    "DEC = 31"
   ]
  },
  {
   "cell_type": "code",
   "execution_count": 18,
   "metadata": {},
   "outputs": [
    {
     "name": "stdout",
     "output_type": "stream",
     "text": [
      "261  is the julian day of the year\n"
     ]
    }
   ],
   "source": [
    "# This section of code will determine what Julian day it is of the year\n",
    "if (month == 1):\n",
    "    julian = day\n",
    "elif (month == 2):\n",
    "    julian = JAN + day\n",
    "elif (month == 3):\n",
    "    julian = JAN + FEB + day\n",
    "elif (month == 4):\n",
    "    julian = JAN + FEB + MAR +day\n",
    "elif (month == 5):\n",
    "    julian = JAN +FEB + MAR + APR + day\n",
    "elif (month == 6):\n",
    "    julian = JAN +FEB + MAR + APR + MAY + day\n",
    "elif (month == 7):\n",
    "    julian = JAN + FEB + MAR + APR + MAY + JUN +day\n",
    "elif (month == 8):\n",
    "    julian = JAN + FEB + MAR + APR + MAY + JUN + JLY + day\n",
    "elif (month == 9):\n",
    "    julian = JAN + FEB + MAR + APR + MAY + JUN + JLY + AUG + day\n",
    "elif (month == 10):\n",
    "    julian = JAN + FEB + MAR + APR + MAY + JUN + JLY + AUG + SEP + day\n",
    "elif (month == 11):\n",
    "    julian = JAN + FEB + MAR + APR + MAY + JUN + JLY + AUG + SEP + OCT + day\n",
    "elif (month == 12):\n",
    "    julian = JAN + FEB + MAR + APR + MAY + JUN + JLY + AUG + SEP + OCT + NOV + day\n",
    "\n",
    "print( julian, ' is the julian day of the year')"
   ]
  },
  {
   "cell_type": "code",
   "execution_count": 19,
   "metadata": {},
   "outputs": [
    {
     "name": "stdout",
     "output_type": "stream",
     "text": [
      "season is summer\n"
     ]
    }
   ],
   "source": [
    "# This section determines what season a given date falls in\n",
    "if (month <= 3):\n",
    "    print( 'winter season')\n",
    "elif (month >= 4 and month <= 6):\n",
    "    print('spring season')\n",
    "elif (month >= 7 and month <= 9):\n",
    "    print('season is summer')\n",
    "else:\n",
    "    print('season is fall')"
   ]
  },
  {
   "cell_type": "code",
   "execution_count": 20,
   "metadata": {},
   "outputs": [
    {
     "name": "stdout",
     "output_type": "stream",
     "text": [
      "261 days have occured in 2018\n",
      "104 days still remain in 2018\n",
      "71.5068493150685 % of days have occured in 2018\n",
      "28.493150684931507 % of days have not occured in 2018\n"
     ]
    }
   ],
   "source": [
    "# This section determines percentage of days that have occured and that have not occured\n",
    "occuredL = (julian/366)*100\n",
    "occured = (julian/365)*100\n",
    "hasyettooccur = 100-occured\n",
    "hasyettooccurL = 100-occuredL\n",
    "day_hasyettooccurL = 366 - julian\n",
    "day_hasyettooccur = 365 - julian\n",
    "\n",
    "if leap:\n",
    "    print( julian, 'days have occured in', year)\n",
    "    print( day_hasyettooccurL, 'days still remain in', year)\n",
    "    print( occuredL, '% of days have occured in', year)\n",
    "    print( hasyettooccurL, '% of days have not occured in', year)\n",
    "\n",
    "else:\n",
    "    print( julian, 'days have occured in', year)\n",
    "    print( day_hasyettooccur, 'days still remain in', year)\n",
    "    print( occured, '% of days have occured in', year)\n",
    "    print (hasyettooccur, '% of days have not occured in', year)\n"
   ]
  }
 ],
 "metadata": {
  "kernelspec": {
   "display_name": "Python 3",
   "language": "python",
   "name": "python3"
  },
  "language_info": {
   "codemirror_mode": {
    "name": "ipython",
    "version": 3
   },
   "file_extension": ".py",
   "mimetype": "text/x-python",
   "name": "python",
   "nbconvert_exporter": "python",
   "pygments_lexer": "ipython3",
   "version": "3.6.4"
  }
 },
 "nbformat": 4,
 "nbformat_minor": 2
}
